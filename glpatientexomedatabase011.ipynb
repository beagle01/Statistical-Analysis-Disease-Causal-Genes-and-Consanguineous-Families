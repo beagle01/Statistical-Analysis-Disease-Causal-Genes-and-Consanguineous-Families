{
 "cells": [
  {
   "cell_type": "markdown",
   "metadata": {},
   "source": [
    "Clinical Exome Sequencing is a test for identifying disease-causing DNA variants\n",
    "It has been know that the offspring of consanguineous relationships are at greater risk of certain genetic disorders. For example, autosomal recessive disorders occur in individuals who are homozygous for a particular recessive gene mutation. This means that they carry two copies (alleles) of the same gene. Except in certain rare circumstances (new mutations or uniparental disomy) both parents of an individual with such a disorder will be carriers of the gene. Such carriers are not affected and will not display any signs that they are carriers, and so may be unaware that they carry the mutated gene. As relatives share a proportion of their genes, it is much more likely that related parents will be carriers of an autosomal recessive gene, and therefore their children are at a higher risk of an autosomal recessive disorder. The extent to which the risk increases depends on the degree of genetic relationship between the parents; so the risk is greater in mating relationships where the parents are close relatives, but for relationships between more distant relatives, such as second cousins, the risk is lower (although still greater than the general population). Here, I will analyse a dataset of clinical exome sequencing, which contains information such as disease causal genes (detected or not detected) and family tpyes (consanguineous, non-consanguineous, same village, or sporadic). We can ask the question, is disease causal gene associated with family type?\n"
   ]
  },
  {
   "cell_type": "code",
   "execution_count": 86,
   "metadata": {},
   "outputs": [],
   "source": [
    "import pandas as pd"
   ]
  },
  {
   "cell_type": "code",
   "execution_count": 45,
   "metadata": {
    "collapsed": true
   },
   "outputs": [],
   "source": [
    "data = pd.read_csv(r'glpatientexomedatabase011.csv', index_col=None, low_memory=False)"
   ]
  },
  {
   "cell_type": "code",
   "execution_count": 48,
   "metadata": {},
   "outputs": [
    {
     "data": {
      "text/plain": [
       "['GLIDNUM',\n",
       " 'GLDISCODE',\n",
       " 'PATIENTID',\n",
       " 'DIAGNOSIS',\n",
       " 'CAUSALGENES',\n",
       " 'GENOTYPE',\n",
       " 'NUCLEOTIDE',\n",
       " 'EXOMESITE',\n",
       " 'YROB',\n",
       " 'GENDER',\n",
       " 'ETHNICITY',\n",
       " 'FAMILYTYPE',\n",
       " 'YRENROLLED']"
      ]
     },
     "execution_count": 48,
     "metadata": {},
     "output_type": "execute_result"
    }
   ],
   "source": [
    "# listing column names\n",
    "list(data)"
   ]
  },
  {
   "cell_type": "code",
   "execution_count": 90,
   "metadata": {},
   "outputs": [
    {
     "name": "stdout",
     "output_type": "stream",
     "text": [
      "Column CAUSALGENES contains: \n",
      "set(['Detected', 'Not Detected'])\n",
      "Column FAMILYTYPE contains: \n",
      "set([nan, 'Sporadic', 'Consanguineous', 'Same Village', 'Non-consanguineous'])\n"
     ]
    }
   ],
   "source": [
    "# listing unique values in columns of CAUSALGENES and FAMILYTYPE\n",
    "col_CAUSALGENES = set(data['CAUSALGENES'])\n",
    "col_FAMILYTYPE = set(data['FAMILYTYPE'])\n",
    "print 'Column CAUSALGENES contains:', '\\n', col_CAUSALGENES\n",
    "print 'Column FAMILYTYPE contains:', '\\n', col_FAMILYTYPE"
   ]
  },
  {
   "cell_type": "code",
   "execution_count": 51,
   "metadata": {},
   "outputs": [
    {
     "data": {
      "text/html": [
       "<div>\n",
       "<style>\n",
       "    .dataframe thead tr:only-child th {\n",
       "        text-align: right;\n",
       "    }\n",
       "\n",
       "    .dataframe thead th {\n",
       "        text-align: left;\n",
       "    }\n",
       "\n",
       "    .dataframe tbody tr th {\n",
       "        vertical-align: top;\n",
       "    }\n",
       "</style>\n",
       "<table border=\"1\" class=\"dataframe\">\n",
       "  <thead>\n",
       "    <tr style=\"text-align: right;\">\n",
       "      <th>FAMILYTYPE</th>\n",
       "      <th>Consanguineous</th>\n",
       "      <th>Non-consanguineous</th>\n",
       "      <th>Same Village</th>\n",
       "      <th>Sporadic</th>\n",
       "    </tr>\n",
       "    <tr>\n",
       "      <th>CAUSALGENES</th>\n",
       "      <th></th>\n",
       "      <th></th>\n",
       "      <th></th>\n",
       "      <th></th>\n",
       "    </tr>\n",
       "  </thead>\n",
       "  <tbody>\n",
       "    <tr>\n",
       "      <th>Detected</th>\n",
       "      <td>2218</td>\n",
       "      <td>175</td>\n",
       "      <td>83</td>\n",
       "      <td>229</td>\n",
       "    </tr>\n",
       "    <tr>\n",
       "      <th>Not Detected</th>\n",
       "      <td>5279</td>\n",
       "      <td>1047</td>\n",
       "      <td>303</td>\n",
       "      <td>1505</td>\n",
       "    </tr>\n",
       "  </tbody>\n",
       "</table>\n",
       "</div>"
      ],
      "text/plain": [
       "FAMILYTYPE    Consanguineous  Non-consanguineous  Same Village  Sporadic\n",
       "CAUSALGENES                                                             \n",
       "Detected                2218                 175            83       229\n",
       "Not Detected            5279                1047           303      1505"
      ]
     },
     "execution_count": 51,
     "metadata": {},
     "output_type": "execute_result"
    }
   ],
   "source": [
    "# generating contingency table of observed counts\n",
    "ct = pd.crosstab(data['CAUSALGENES'], data['FAMILYTYPE'])\n",
    "print ct"
   ]
  },
  {
   "cell_type": "code",
   "execution_count": 52,
   "metadata": {},
   "outputs": [
    {
     "data": {
      "text/html": [
       "<div>\n",
       "<style>\n",
       "    .dataframe thead tr:only-child th {\n",
       "        text-align: right;\n",
       "    }\n",
       "\n",
       "    .dataframe thead th {\n",
       "        text-align: left;\n",
       "    }\n",
       "\n",
       "    .dataframe tbody tr th {\n",
       "        vertical-align: top;\n",
       "    }\n",
       "</style>\n",
       "<table border=\"1\" class=\"dataframe\">\n",
       "  <thead>\n",
       "    <tr style=\"text-align: right;\">\n",
       "      <th>FAMILYTYPE</th>\n",
       "      <th>Consanguineous</th>\n",
       "      <th>Non-consanguineous</th>\n",
       "      <th>Same Village</th>\n",
       "      <th>Sporadic</th>\n",
       "    </tr>\n",
       "    <tr>\n",
       "      <th>CAUSALGENES</th>\n",
       "      <th></th>\n",
       "      <th></th>\n",
       "      <th></th>\n",
       "      <th></th>\n",
       "    </tr>\n",
       "  </thead>\n",
       "  <tbody>\n",
       "    <tr>\n",
       "      <th>Detected</th>\n",
       "      <td>0.295852</td>\n",
       "      <td>0.143208</td>\n",
       "      <td>0.215026</td>\n",
       "      <td>0.132065</td>\n",
       "    </tr>\n",
       "    <tr>\n",
       "      <th>Not Detected</th>\n",
       "      <td>0.704148</td>\n",
       "      <td>0.856792</td>\n",
       "      <td>0.784974</td>\n",
       "      <td>0.867935</td>\n",
       "    </tr>\n",
       "  </tbody>\n",
       "</table>\n",
       "</div>"
      ],
      "text/plain": [
       "FAMILYTYPE    Consanguineous  Non-consanguineous  Same Village  Sporadic\n",
       "CAUSALGENES                                                             \n",
       "Detected            0.295852            0.143208      0.215026  0.132065\n",
       "Not Detected        0.704148            0.856792      0.784974  0.867935"
      ]
     },
     "execution_count": 52,
     "metadata": {},
     "output_type": "execute_result"
    }
   ],
   "source": [
    "# calculating column percentage\n",
    "colsum = ct.sum(axis=0)\n",
    "colpct = ct/colsum\n",
    "print colpct"
   ]
  },
  {
   "cell_type": "code",
   "execution_count": 91,
   "metadata": {},
   "outputs": [
    {
     "name": "stdout",
     "output_type": "stream",
     "text": [
      "chi-square value, p value, expeted counts \n",
      "(289.86302379890162, 1.5544300966943123e-62, 3L, array([[ 1870.96457238,   304.96448012,    96.33084233,   432.74010518],\n",
      "       [ 5626.03542762,   917.03551988,   289.66915767,  1301.25989482]]))\n"
     ]
    }
   ],
   "source": [
    "import scipy.stats as stat\n",
    "\n",
    "# chi-square test of independence\n",
    "cs = stat.chi2_contingency(ct)\n",
    "print 'chi-square value, p value, expeted counts', '\\n', cs"
   ]
  },
  {
   "cell_type": "markdown",
   "metadata": {},
   "source": [
    "As we can see from the large chi-square value, and significant P value, causal gene and family type are significantly associated. In examining the column percents of each family type with causal gene, we see higher rates of causal gene among Consanguineous group (29.6%) and Same Village group (21.5%) than Non-consanguineous group (14.3%) and Sporadic group (13.2%). Next, I'll do post hoc tests to look at these groups separately. I'll use the post doc approach known as the Bonferroni Adjustment. Since there will be 6 pairs of comparison, the adjusted p value is 0.05 / 6 = 0.008."
   ]
  },
  {
   "cell_type": "code",
   "execution_count": 80,
   "metadata": {},
   "outputs": [
    {
     "name": "stdout",
     "output_type": "stream",
     "text": [
      "Consanguineous vs. Non-consanguineous \n",
      "chi-square value, p value, expected counts \n",
      "(122.17994955807615, 2.1082230233406736e-28, 1L, array([[ 2057.61222617,   335.38777383],\n",
      "       [ 5439.38777383,   886.61222617]]))\n"
     ]
    }
   ],
   "source": [
    "# post hoc tests for chi-sqare test of independency\n",
    "recode1 = {'Consanguineous': 'Consanguineous', 'Non-consanguineous': 'Non-consanguineous'}\n",
    "data['COMPCONvNON'] = data['FAMILYTYPE'].map(recode1)\n",
    "\n",
    "# contingency table of observed counts\n",
    "ct1 = pd.crosstab(data['CAUSALGENES'], data['COMPCONvNON'])\n",
    "\n",
    "# chi-square test\n",
    "cs1 = stat.chi2_contingency(ct1)\n",
    "\n",
    "print 'Consanguineous vs. Non-consanguineous', '\\n', 'chi-square value, p value, expected counts', '\\n', cs1"
   ]
  },
  {
   "cell_type": "code",
   "execution_count": 81,
   "metadata": {},
   "outputs": [
    {
     "name": "stdout",
     "output_type": "stream",
     "text": [
      "Consanguineous vs. Same Village \n",
      "chi-square value, p value, expected counts \n",
      "(11.214963459777952, 0.00081140407363826828, 1L, array([[ 2188.32893568,   112.67106432],\n",
      "       [ 5308.67106432,   273.32893568]]))\n"
     ]
    }
   ],
   "source": [
    "# post hoc tests for chi-sqare tests of independency\n",
    "recode2 = {'Consanguineous': 'Consanguineous', 'Same Village': 'Same Village'}\n",
    "data['COMPCONvSV'] = data['FAMILYTYPE'].map(recode2)\n",
    "\n",
    "# contingency table of observed counts\n",
    "ct2 = pd.crosstab(data['CAUSALGENES'], data['COMPCONvSV'])\n",
    "\n",
    "# chi-square test\n",
    "cs2 = stat.chi2_contingency(ct2)\n",
    "\n",
    "print 'Consanguineous vs. Same Village', '\\n', 'chi-square value, p value, expected counts', '\\n', cs2"
   ]
  },
  {
   "cell_type": "code",
   "execution_count": 82,
   "metadata": {},
   "outputs": [
    {
     "name": "stdout",
     "output_type": "stream",
     "text": [
      "Consanguineous vs. Sporadic \n",
      "chi-square value, p value, expected counts \n",
      "(193.08118120916544, 6.7577703671272454e-44, 1L, array([[ 1987.34254144,   459.65745856],\n",
      "       [ 5509.65745856,  1274.34254144]]))\n"
     ]
    }
   ],
   "source": [
    "# post hoc tests for chi-sqare tests of independency\n",
    "recode3 = {'Consanguineous': 'Consanguineous', 'Sporadic': 'Sporadic'}\n",
    "data['COMPCONvSP'] = data['FAMILYTYPE'].map(recode3)\n",
    "\n",
    "# contingency table of observed counts\n",
    "ct3 = pd.crosstab(data['CAUSALGENES'], data['COMPCONvSP'])\n",
    "\n",
    "# chi-square test\n",
    "cs3 = stat.chi2_contingency(ct3)\n",
    "\n",
    "print 'Consanguineous vs. Sporadic', '\\n', 'chi-square value, p value, expected counts', '\\n', cs3"
   ]
  },
  {
   "cell_type": "code",
   "execution_count": 83,
   "metadata": {},
   "outputs": [
    {
     "name": "stdout",
     "output_type": "stream",
     "text": [
      "Non-consanguineous vs. Sporadic \n",
      "chi-square value, p value, expected counts \n",
      "(0.66289067038087912, 0.41554127908261917, 1L, array([[  167.01217862,   236.98782138],\n",
      "       [ 1054.98782138,  1497.01217862]]))\n"
     ]
    }
   ],
   "source": [
    "# post hoc tests for chi-sqare tests of independency\n",
    "recode4 = {'Non-consanguineous': 'Non-consanguineous', 'Sporadic': 'Sporadic'}\n",
    "data['COMPNONvSP'] = data['FAMILYTYPE'].map(recode4)\n",
    "\n",
    "# contingency table of observed counts\n",
    "ct4 = pd.crosstab(data['CAUSALGENES'], data['COMPNONvSP'])\n",
    "\n",
    "# chi-square test\n",
    "cs4 = stat.chi2_contingency(ct4)\n",
    "\n",
    "print 'Non-consanguineous vs. Sporadic', '\\n', 'chi-square value, p value, expected counts', '\\n', cs4"
   ]
  },
  {
   "cell_type": "code",
   "execution_count": 84,
   "metadata": {},
   "outputs": [
    {
     "name": "stdout",
     "output_type": "stream",
     "text": [
      "Non-consanguineous vs. Same Village \n",
      "chi-square value, p value, expected counts \n",
      "(10.705204745679863, 0.0010683456374215845, 1L, array([[  196.06716418,    61.93283582],\n",
      "       [ 1025.93283582,   324.06716418]]))\n"
     ]
    }
   ],
   "source": [
    "# post hoc tests for chi-sqare tests of independency\n",
    "recode5 = {'Non-consanguineous': 'Non-consanguineous', 'Same Village': 'Same Village'}\n",
    "data['COMPNONvSV'] = data['FAMILYTYPE'].map(recode5)\n",
    "\n",
    "# contingency table of observed counts\n",
    "ct5 = pd.crosstab(data['CAUSALGENES'], data['COMPNONvSV'])\n",
    "\n",
    "# chi-square test\n",
    "cs5 = stat.chi2_contingency(ct5)\n",
    "\n",
    "print 'Non-consanguineous vs. Same Village', '\\n', 'chi-square value, p value, expected counts', '\\n', cs5"
   ]
  },
  {
   "cell_type": "code",
   "execution_count": 85,
   "metadata": {},
   "outputs": [
    {
     "name": "stdout",
     "output_type": "stream",
     "text": [
      "Same Village vs. Sporadic \n",
      "chi-square value, p value, expected counts \n",
      "(16.65824712451105, 4.4755299363058195e-05, 1L, array([[   56.80754717,   255.19245283],\n",
      "       [  329.19245283,  1478.80754717]]))\n"
     ]
    }
   ],
   "source": [
    "# post hoc tests for chi-sqare tests of independency\n",
    "recode6 = {'Same Village': 'Same Village', 'Sporadic': 'Sporadic'}\n",
    "data['COMPSVvSP'] = data['FAMILYTYPE'].map(recode6)\n",
    "\n",
    "# contingency table of observed counts\n",
    "ct6 = pd.crosstab(data['CAUSALGENES'], data['COMPSVvSP'])\n",
    "\n",
    "# chi-square test\n",
    "cs6 = stat.chi2_contingency(ct6)\n",
    "\n",
    "print 'Same Village vs. Sporadic', '\\n', 'chi-square value, p value, expected counts', '\\n', cs6"
   ]
  },
  {
   "cell_type": "code",
   "execution_count": 89,
   "metadata": {
    "scrolled": false
   },
   "outputs": [
    {
     "name": "stdout",
     "output_type": "stream",
     "text": [
      "YRENROLLED\n",
      "1999       7\n",
      "2000       7\n",
      "2001      21\n",
      "2002      27\n",
      "2003      51\n",
      "2004      95\n",
      "2005     315\n",
      "2006     188\n",
      "2007     144\n",
      "2008     404\n",
      "2009     459\n",
      "2010     464\n",
      "2011     574\n",
      "2012     721\n",
      "2013    1084\n",
      "2014    2181\n",
      "2015    1270\n",
      "2016    1568\n",
      "2017     645\n",
      "dtype: int64\n"
     ]
    }
   ],
   "source": [
    "enroll_df = data[['YRENROLLED']].dropna().astype(int)\n",
    "enroll = enroll_df.groupby('YRENROLLED').size()\n",
    "print enroll"
   ]
  },
  {
   "cell_type": "code",
   "execution_count": 43,
   "metadata": {},
   "outputs": [
    {
     "data": {
      "image/png": "[encoded data removed]",
      "text/plain": [
       "<matplotlib.figure.Figure at 0x8fef908>"
      ]
     },
     "metadata": {},
     "output_type": "display_data"
    }
   ],
   "source": [
    "import matplotlib.pyplot as plt\n",
    "\n",
    "enroll.plot(kind='barh')\n",
    "plt.xlabel('Number of patients')\n",
    "plt.ylabel('Year')\n",
    "plt.show()"
   ]
  }
 ],
 "metadata": {
  "kernelspec": {
   "display_name": "Python 2",
   "language": "python",
   "name": "python2"
  },
  "language_info": {
   "codemirror_mode": {
    "name": "ipython",
    "version": 2
   },
   "file_extension": ".py",
   "mimetype": "text/x-python",
   "name": "python",
   "nbconvert_exporter": "python",
   "pygments_lexer": "ipython2",
   "version": "2.7.13"
  }
 },
 "nbformat": 4,
 "nbformat_minor": 2
}
